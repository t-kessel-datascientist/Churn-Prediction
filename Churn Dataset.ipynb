{
 "cells": [
  {
   "cell_type": "markdown",
   "id": "ec5859fe",
   "metadata": {},
   "source": [
    "# Churn Prediction\n",
    "Notebook by Tobias Kessel (https://www.linkedin.com/in/tobias-kessel-045806b5/)\n",
    "\n",
    "__The dataset consists of 8 000 data points stored as rows with 13 features in columns__  \n",
    "The goal is, to provide an algorithm that can reliably predict churn candidates\n",
    "***\n",
    "- Kundennummer: Customer ID\n",
    "- Nachname: Surname of customer\n",
    "- Bonitaet: Credit score of customer\n",
    "- Land: Country of origin\n",
    "- Geschlecht: Sex of the customer\n",
    "- Alter: Age\n",
    "- Dauer: Duration of ensurance contracts\n",
    "- Konto: Balance\n",
    "- NrProdukte: Number of insurance products\n",
    "- HatCrKarte: If the customer has a credit card\n",
    "- Aktiv: Active Contracts?\n",
    "- Gesch_Einkommen: Estimated income\n",
    "- Austritt: TARGET -> If the customer has churned\n",
    "***"
   ]
  },
  {
   "cell_type": "markdown",
   "id": "928c2602",
   "metadata": {},
   "source": [
    "# __Step 1:__ \n",
    "Importing libraries and CSV"
   ]
  },
  {
   "cell_type": "code",
   "execution_count": 447,
   "id": "32a21ab5",
   "metadata": {},
   "outputs": [],
   "source": [
    "import pandas as pd\n",
    "import numpy as np\n",
    "import matplotlib.pyplot as plt\n",
    "import seaborn as sns\n",
    "%matplotlib inline\n",
    "\n",
    "from sklearn.model_selection import train_test_split\n",
    "from sklearn.preprocessing import StandardScaler\n",
    "from imblearn.over_sampling import SMOTE\n",
    "from sklearn.metrics import f1_score, classification_report\n",
    "from sklearn.svm import SVC\n",
    "\n",
    "from warnings import simplefilter\n",
    "simplefilter(action='ignore')"
   ]
  },
  {
   "cell_type": "code",
   "execution_count": 448,
   "id": "3c54d538",
   "metadata": {
    "scrolled": true
   },
   "outputs": [],
   "source": [
    "df=pd.read_csv('churn_daten.csv')"
   ]
  },
  {
   "cell_type": "markdown",
   "id": "92a10c6d",
   "metadata": {},
   "source": [
    "# Step 2:\n",
    "Data Assessment / Exploratory Data Analysis"
   ]
  },
  {
   "cell_type": "code",
   "execution_count": 449,
   "id": "c59c4eb9",
   "metadata": {
    "scrolled": true
   },
   "outputs": [
    {
     "data": {
      "text/html": [
       "<div>\n",
       "<style scoped>\n",
       "    .dataframe tbody tr th:only-of-type {\n",
       "        vertical-align: middle;\n",
       "    }\n",
       "\n",
       "    .dataframe tbody tr th {\n",
       "        vertical-align: top;\n",
       "    }\n",
       "\n",
       "    .dataframe thead th {\n",
       "        text-align: right;\n",
       "    }\n",
       "</style>\n",
       "<table border=\"1\" class=\"dataframe\">\n",
       "  <thead>\n",
       "    <tr style=\"text-align: right;\">\n",
       "      <th></th>\n",
       "      <th>Nachname</th>\n",
       "      <th>KundenNr</th>\n",
       "      <th>Land</th>\n",
       "      <th>Geschlecht</th>\n",
       "      <th>Alter</th>\n",
       "      <th>Aktiv</th>\n",
       "      <th>Bonitaet</th>\n",
       "      <th>Dauer</th>\n",
       "      <th>Konto</th>\n",
       "      <th>NrProdukte</th>\n",
       "      <th>HatCrKarte</th>\n",
       "      <th>Gesch_Einkommen</th>\n",
       "      <th>Austritt</th>\n",
       "    </tr>\n",
       "  </thead>\n",
       "  <tbody>\n",
       "    <tr>\n",
       "      <th>0</th>\n",
       "      <td>Chukwufumnanya</td>\n",
       "      <td>139680875</td>\n",
       "      <td>Deutschland</td>\n",
       "      <td>f</td>\n",
       "      <td>48</td>\n",
       "      <td>1</td>\n",
       "      <td>656</td>\n",
       "      <td>9</td>\n",
       "      <td>0.00</td>\n",
       "      <td>2</td>\n",
       "      <td>1</td>\n",
       "      <td>85240.61</td>\n",
       "      <td>1</td>\n",
       "    </tr>\n",
       "    <tr>\n",
       "      <th>1</th>\n",
       "      <td>Milani</td>\n",
       "      <td>139879041</td>\n",
       "      <td>England</td>\n",
       "      <td>m</td>\n",
       "      <td>28</td>\n",
       "      <td>0</td>\n",
       "      <td>540</td>\n",
       "      <td>8</td>\n",
       "      <td>0.00</td>\n",
       "      <td>2</td>\n",
       "      <td>0</td>\n",
       "      <td>197588.32</td>\n",
       "      <td>0</td>\n",
       "    </tr>\n",
       "    <tr>\n",
       "      <th>2</th>\n",
       "      <td>Kung</td>\n",
       "      <td>139808644</td>\n",
       "      <td>England</td>\n",
       "      <td>f</td>\n",
       "      <td>46</td>\n",
       "      <td>1</td>\n",
       "      <td>640</td>\n",
       "      <td>3</td>\n",
       "      <td>0.00</td>\n",
       "      <td>1</td>\n",
       "      <td>1</td>\n",
       "      <td>156260.08</td>\n",
       "      <td>0</td>\n",
       "    </tr>\n",
       "    <tr>\n",
       "      <th>3</th>\n",
       "      <td>Chukwualuka</td>\n",
       "      <td>139833447</td>\n",
       "      <td>Deutschland</td>\n",
       "      <td>f</td>\n",
       "      <td>31</td>\n",
       "      <td>0</td>\n",
       "      <td>543</td>\n",
       "      <td>4</td>\n",
       "      <td>138317.94</td>\n",
       "      <td>1</td>\n",
       "      <td>0</td>\n",
       "      <td>61843.73</td>\n",
       "      <td>0</td>\n",
       "    </tr>\n",
       "    <tr>\n",
       "      <th>4</th>\n",
       "      <td>Humphries</td>\n",
       "      <td>139839254</td>\n",
       "      <td>Frankreich</td>\n",
       "      <td>f</td>\n",
       "      <td>47</td>\n",
       "      <td>0</td>\n",
       "      <td>661</td>\n",
       "      <td>0</td>\n",
       "      <td>109493.62</td>\n",
       "      <td>1</td>\n",
       "      <td>0</td>\n",
       "      <td>188324.01</td>\n",
       "      <td>1</td>\n",
       "    </tr>\n",
       "  </tbody>\n",
       "</table>\n",
       "</div>"
      ],
      "text/plain": [
       "         Nachname   KundenNr         Land Geschlecht  Alter  Aktiv  Bonitaet  \\\n",
       "0  Chukwufumnanya  139680875  Deutschland          f     48      1       656   \n",
       "1          Milani  139879041      England          m     28      0       540   \n",
       "2            Kung  139808644      England          f     46      1       640   \n",
       "3     Chukwualuka  139833447  Deutschland          f     31      0       543   \n",
       "4       Humphries  139839254   Frankreich          f     47      0       661   \n",
       "\n",
       "   Dauer      Konto  NrProdukte  HatCrKarte  Gesch_Einkommen  Austritt  \n",
       "0      9       0.00           2           1         85240.61         1  \n",
       "1      8       0.00           2           0        197588.32         0  \n",
       "2      3       0.00           1           1        156260.08         0  \n",
       "3      4  138317.94           1           0         61843.73         0  \n",
       "4      0  109493.62           1           0        188324.01         1  "
      ]
     },
     "execution_count": 449,
     "metadata": {},
     "output_type": "execute_result"
    }
   ],
   "source": [
    "df.head()"
   ]
  },
  {
   "cell_type": "code",
   "execution_count": 450,
   "id": "e9af1fba",
   "metadata": {},
   "outputs": [
    {
     "name": "stdout",
     "output_type": "stream",
     "text": [
      "<class 'pandas.core.frame.DataFrame'>\n",
      "Int64Index: 8000 entries, 0 to 7999\n",
      "Data columns (total 13 columns):\n",
      " #   Column           Non-Null Count  Dtype  \n",
      "---  ------           --------------  -----  \n",
      " 0   Nachname         8000 non-null   object \n",
      " 1   KundenNr         8000 non-null   int64  \n",
      " 2   Land             8000 non-null   object \n",
      " 3   Geschlecht       8000 non-null   object \n",
      " 4   Alter            8000 non-null   int64  \n",
      " 5   Aktiv            8000 non-null   int64  \n",
      " 6   Bonitaet         8000 non-null   int64  \n",
      " 7   Dauer            8000 non-null   int64  \n",
      " 8   Konto            8000 non-null   float64\n",
      " 9   NrProdukte       8000 non-null   int64  \n",
      " 10  HatCrKarte       8000 non-null   int64  \n",
      " 11  Gesch_Einkommen  8000 non-null   float64\n",
      " 12  Austritt         8000 non-null   int64  \n",
      "dtypes: float64(2), int64(8), object(3)\n",
      "memory usage: 875.0+ KB\n"
     ]
    }
   ],
   "source": [
    "df.info()"
   ]
  },
  {
   "cell_type": "code",
   "execution_count": 451,
   "id": "740b7178",
   "metadata": {},
   "outputs": [
    {
     "name": "stdout",
     "output_type": "stream",
     "text": [
      "No double entries in feature KundenNr\n"
     ]
    }
   ],
   "source": [
    "len(df['KundenNr'].unique())\n",
    "print('No double entries in feature KundenNr')"
   ]
  },
  {
   "cell_type": "code",
   "execution_count": 452,
   "id": "978f3927",
   "metadata": {},
   "outputs": [
    {
     "name": "stdout",
     "output_type": "stream",
     "text": [
      "Ratio of Exited to non-Exited:\n",
      "934 vs. 7066\n",
      "11.68% vs. 88.33%\n"
     ]
    }
   ],
   "source": [
    "print('Ratio of Exited to non-Exited:')\n",
    "print('{} vs. {}'.format(df['Austritt'].sum(),df.shape[0]-df['Austritt'].sum()))\n",
    "print('{:2.2%} vs. {:2.2%}'.format(df['Austritt'].value_counts(normalize=True)[1],df['Austritt'].value_counts(normalize=True)[0]))"
   ]
  },
  {
   "cell_type": "code",
   "execution_count": 453,
   "id": "e6db99e6",
   "metadata": {},
   "outputs": [
    {
     "data": {
      "text/plain": [
       "2     840\n",
       "7     839\n",
       "1     829\n",
       "5     818\n",
       "8     808\n",
       "3     806\n",
       "4     794\n",
       "6     780\n",
       "9     777\n",
       "10    383\n",
       "0     326\n",
       "Name: Dauer, dtype: int64"
      ]
     },
     "execution_count": 453,
     "metadata": {},
     "output_type": "execute_result"
    }
   ],
   "source": [
    "df['Dauer'].value_counts()"
   ]
  },
  {
   "cell_type": "code",
   "execution_count": 454,
   "id": "a5657f76",
   "metadata": {},
   "outputs": [
    {
     "data": {
      "image/png": "[encoded data removed]",
      "text/plain": [
       "<Figure size 1080x720 with 6 Axes>"
      ]
     },
     "metadata": {
      "needs_background": "light"
     },
     "output_type": "display_data"
    }
   ],
   "source": [
    "plt.figure(figsize=(15,10))\n",
    "\n",
    "plt.subplot(2,3,1)\n",
    "sns.countplot(x='Land',data=df)\n",
    "plt.title('Distribution of customer origin by country')\n",
    "plt.grid();\n",
    "\n",
    "plt.subplot(2,3,2)\n",
    "sns.countplot(x='Geschlecht',data=df)\n",
    "plt.title('Distribution of customer gender')\n",
    "plt.grid();\n",
    "\n",
    "plt.subplot(2,3,3)\n",
    "sns.countplot(x='Austritt',data=df)\n",
    "plt.title('Distribution of customer churn')\n",
    "plt.grid();\n",
    "\n",
    "plt.subplot(2,3,4)\n",
    "sns.countplot(x='NrProdukte',data=df)\n",
    "plt.title('Distribution of number of products')\n",
    "plt.grid();\n",
    "\n",
    "plt.subplot(2,3,5)\n",
    "sns.countplot(x='HatCrKarte',data=df)\n",
    "plt.title('Distribution of customers that have a credit card')\n",
    "plt.grid();\n",
    "\n",
    "plt.subplot(2,3,6)\n",
    "sns.countplot(x='Aktiv',data=df)\n",
    "plt.title('Distribution of customers that are active members')\n",
    "plt.grid();"
   ]
  },
  {
   "cell_type": "code",
   "execution_count": 455,
   "id": "7f41007d",
   "metadata": {},
   "outputs": [
    {
     "data": {
      "image/png": "[encoded data removed]",
      "text/plain": [
       "<Figure size 1080x720 with 4 Axes>"
      ]
     },
     "metadata": {
      "needs_background": "light"
     },
     "output_type": "display_data"
    }
   ],
   "source": [
    "fig, axes = plt.subplots(2, 2, figsize=(15, 10))\n",
    "\n",
    "\n",
    "sns.histplot(ax=axes[0,0],x='Alter',data=df,bins=20,kde=True,color=\"blue\")\n",
    "axes[0,0].set_title('Customer age distribution')\n",
    "axes[0,0].grid()\n",
    "\n",
    "sns.histplot(ax=axes[0,1],x='Konto',data=df,bins=20,kde=True,color=\"blue\")\n",
    "axes[0,1].set_title('Balance distribution')\n",
    "axes[0,1].grid()\n",
    "\n",
    "sns.kdeplot(ax=axes[1,0],x='Gesch_Einkommen',data=df,color=\"green\")\n",
    "axes[1,0].set_title('Estimated Salary distribution')\n",
    "axes[1,0].grid()\n",
    "\n",
    "sns.kdeplot(ax=axes[1,1],x='Dauer',data=df)\n",
    "axes[1,1].set_title('Tenure distribution')\n",
    "axes[1,1].grid()"
   ]
  },
  {
   "cell_type": "markdown",
   "id": "9e2756c3",
   "metadata": {},
   "source": [
    "# Step 2\n",
    "Data Preparation"
   ]
  },
  {
   "cell_type": "code",
   "execution_count": 456,
   "id": "17c4090e",
   "metadata": {},
   "outputs": [],
   "source": [
    "# Dropping of irrelevant features: Nachname, KundenNr & Land\n",
    "df.drop(['Nachname','KundenNr','Land'],inplace=True,axis=1)"
   ]
  },
  {
   "cell_type": "code",
   "execution_count": 457,
   "id": "ec945b06",
   "metadata": {},
   "outputs": [],
   "source": [
    "# Changing feature 'NrProdukte' to object as it is categorical\n",
    "df['NrProdukte']=df['NrProdukte'].astype('object')\n",
    "\n",
    "# Encoding modalities of feature 'Geschlecht'\n",
    "df['Geschlecht']=[0 if x == 'Male' else 1 for x in df['Geschlecht']]"
   ]
  },
  {
   "cell_type": "code",
   "execution_count": 458,
   "id": "3020eb3e",
   "metadata": {},
   "outputs": [],
   "source": [
    "y=df['Austritt']\n",
    "X=df.drop('Austritt',axis=1)"
   ]
  },
  {
   "cell_type": "code",
   "execution_count": 459,
   "id": "733b9ea6",
   "metadata": {},
   "outputs": [],
   "source": [
    "# One-Hot-Encoding of feature 'NrProdukte'\n",
    "X=X.join(pd.get_dummies(X['NrProdukte'],prefix='NP'))\n",
    "X.drop('NrProdukte',inplace=True, axis=1)"
   ]
  },
  {
   "cell_type": "markdown",
   "id": "69110c1b",
   "metadata": {},
   "source": [
    "# Step 3\n",
    "Setting up Classifier"
   ]
  },
  {
   "cell_type": "code",
   "execution_count": 403,
   "id": "72f59f2a",
   "metadata": {},
   "outputs": [
    {
     "data": {
      "text/html": [
       "<div>\n",
       "<style scoped>\n",
       "    .dataframe tbody tr th:only-of-type {\n",
       "        vertical-align: middle;\n",
       "    }\n",
       "\n",
       "    .dataframe tbody tr th {\n",
       "        vertical-align: top;\n",
       "    }\n",
       "\n",
       "    .dataframe thead th {\n",
       "        text-align: right;\n",
       "    }\n",
       "</style>\n",
       "<table border=\"1\" class=\"dataframe\">\n",
       "  <thead>\n",
       "    <tr style=\"text-align: right;\">\n",
       "      <th></th>\n",
       "      <th>Bonitaet</th>\n",
       "      <th>Geschlecht</th>\n",
       "      <th>Alter</th>\n",
       "      <th>Dauer</th>\n",
       "      <th>Konto</th>\n",
       "      <th>HatCrKarte</th>\n",
       "      <th>Aktiv</th>\n",
       "      <th>Gesch_Einkommen</th>\n",
       "      <th>NP_1</th>\n",
       "      <th>NP_2</th>\n",
       "      <th>NP_3</th>\n",
       "      <th>NP_4</th>\n",
       "    </tr>\n",
       "  </thead>\n",
       "  <tbody>\n",
       "    <tr>\n",
       "      <th>0</th>\n",
       "      <td>656</td>\n",
       "      <td>1</td>\n",
       "      <td>48</td>\n",
       "      <td>9</td>\n",
       "      <td>0.00</td>\n",
       "      <td>1</td>\n",
       "      <td>1</td>\n",
       "      <td>85240.61</td>\n",
       "      <td>0</td>\n",
       "      <td>1</td>\n",
       "      <td>0</td>\n",
       "      <td>0</td>\n",
       "    </tr>\n",
       "    <tr>\n",
       "      <th>1</th>\n",
       "      <td>540</td>\n",
       "      <td>1</td>\n",
       "      <td>28</td>\n",
       "      <td>8</td>\n",
       "      <td>0.00</td>\n",
       "      <td>0</td>\n",
       "      <td>0</td>\n",
       "      <td>197588.32</td>\n",
       "      <td>0</td>\n",
       "      <td>1</td>\n",
       "      <td>0</td>\n",
       "      <td>0</td>\n",
       "    </tr>\n",
       "    <tr>\n",
       "      <th>2</th>\n",
       "      <td>640</td>\n",
       "      <td>1</td>\n",
       "      <td>46</td>\n",
       "      <td>3</td>\n",
       "      <td>0.00</td>\n",
       "      <td>1</td>\n",
       "      <td>1</td>\n",
       "      <td>156260.08</td>\n",
       "      <td>1</td>\n",
       "      <td>0</td>\n",
       "      <td>0</td>\n",
       "      <td>0</td>\n",
       "    </tr>\n",
       "    <tr>\n",
       "      <th>3</th>\n",
       "      <td>543</td>\n",
       "      <td>1</td>\n",
       "      <td>31</td>\n",
       "      <td>4</td>\n",
       "      <td>138317.94</td>\n",
       "      <td>0</td>\n",
       "      <td>0</td>\n",
       "      <td>61843.73</td>\n",
       "      <td>1</td>\n",
       "      <td>0</td>\n",
       "      <td>0</td>\n",
       "      <td>0</td>\n",
       "    </tr>\n",
       "    <tr>\n",
       "      <th>4</th>\n",
       "      <td>661</td>\n",
       "      <td>1</td>\n",
       "      <td>47</td>\n",
       "      <td>0</td>\n",
       "      <td>109493.62</td>\n",
       "      <td>0</td>\n",
       "      <td>0</td>\n",
       "      <td>188324.01</td>\n",
       "      <td>1</td>\n",
       "      <td>0</td>\n",
       "      <td>0</td>\n",
       "      <td>0</td>\n",
       "    </tr>\n",
       "    <tr>\n",
       "      <th>...</th>\n",
       "      <td>...</td>\n",
       "      <td>...</td>\n",
       "      <td>...</td>\n",
       "      <td>...</td>\n",
       "      <td>...</td>\n",
       "      <td>...</td>\n",
       "      <td>...</td>\n",
       "      <td>...</td>\n",
       "      <td>...</td>\n",
       "      <td>...</td>\n",
       "      <td>...</td>\n",
       "      <td>...</td>\n",
       "    </tr>\n",
       "    <tr>\n",
       "      <th>7995</th>\n",
       "      <td>668</td>\n",
       "      <td>1</td>\n",
       "      <td>32</td>\n",
       "      <td>1</td>\n",
       "      <td>134446.04</td>\n",
       "      <td>0</td>\n",
       "      <td>1</td>\n",
       "      <td>111241.37</td>\n",
       "      <td>1</td>\n",
       "      <td>0</td>\n",
       "      <td>0</td>\n",
       "      <td>0</td>\n",
       "    </tr>\n",
       "    <tr>\n",
       "      <th>7996</th>\n",
       "      <td>569</td>\n",
       "      <td>1</td>\n",
       "      <td>35</td>\n",
       "      <td>2</td>\n",
       "      <td>109196.66</td>\n",
       "      <td>1</td>\n",
       "      <td>0</td>\n",
       "      <td>109393.19</td>\n",
       "      <td>0</td>\n",
       "      <td>0</td>\n",
       "      <td>1</td>\n",
       "      <td>0</td>\n",
       "    </tr>\n",
       "    <tr>\n",
       "      <th>7997</th>\n",
       "      <td>579</td>\n",
       "      <td>1</td>\n",
       "      <td>31</td>\n",
       "      <td>9</td>\n",
       "      <td>0.00</td>\n",
       "      <td>1</td>\n",
       "      <td>0</td>\n",
       "      <td>112395.98</td>\n",
       "      <td>0</td>\n",
       "      <td>1</td>\n",
       "      <td>0</td>\n",
       "      <td>0</td>\n",
       "    </tr>\n",
       "    <tr>\n",
       "      <th>7998</th>\n",
       "      <td>696</td>\n",
       "      <td>1</td>\n",
       "      <td>43</td>\n",
       "      <td>4</td>\n",
       "      <td>0.00</td>\n",
       "      <td>1</td>\n",
       "      <td>1</td>\n",
       "      <td>66406.37</td>\n",
       "      <td>0</td>\n",
       "      <td>1</td>\n",
       "      <td>0</td>\n",
       "      <td>0</td>\n",
       "    </tr>\n",
       "    <tr>\n",
       "      <th>7999</th>\n",
       "      <td>445</td>\n",
       "      <td>1</td>\n",
       "      <td>30</td>\n",
       "      <td>3</td>\n",
       "      <td>0.00</td>\n",
       "      <td>1</td>\n",
       "      <td>1</td>\n",
       "      <td>127939.19</td>\n",
       "      <td>0</td>\n",
       "      <td>1</td>\n",
       "      <td>0</td>\n",
       "      <td>0</td>\n",
       "    </tr>\n",
       "  </tbody>\n",
       "</table>\n",
       "<p>8000 rows × 12 columns</p>\n",
       "</div>"
      ],
      "text/plain": [
       "      Bonitaet  Geschlecht  Alter  Dauer      Konto  HatCrKarte  Aktiv  \\\n",
       "0          656           1     48      9       0.00           1      1   \n",
       "1          540           1     28      8       0.00           0      0   \n",
       "2          640           1     46      3       0.00           1      1   \n",
       "3          543           1     31      4  138317.94           0      0   \n",
       "4          661           1     47      0  109493.62           0      0   \n",
       "...        ...         ...    ...    ...        ...         ...    ...   \n",
       "7995       668           1     32      1  134446.04           0      1   \n",
       "7996       569           1     35      2  109196.66           1      0   \n",
       "7997       579           1     31      9       0.00           1      0   \n",
       "7998       696           1     43      4       0.00           1      1   \n",
       "7999       445           1     30      3       0.00           1      1   \n",
       "\n",
       "      Gesch_Einkommen  NP_1  NP_2  NP_3  NP_4  \n",
       "0            85240.61     0     1     0     0  \n",
       "1           197588.32     0     1     0     0  \n",
       "2           156260.08     1     0     0     0  \n",
       "3            61843.73     1     0     0     0  \n",
       "4           188324.01     1     0     0     0  \n",
       "...               ...   ...   ...   ...   ...  \n",
       "7995        111241.37     1     0     0     0  \n",
       "7996        109393.19     0     0     1     0  \n",
       "7997        112395.98     0     1     0     0  \n",
       "7998         66406.37     0     1     0     0  \n",
       "7999        127939.19     0     1     0     0  \n",
       "\n",
       "[8000 rows x 12 columns]"
      ]
     },
     "execution_count": 403,
     "metadata": {},
     "output_type": "execute_result"
    }
   ],
   "source": [
    "X"
   ]
  },
  {
   "cell_type": "code",
   "execution_count": 404,
   "id": "701f9d5f",
   "metadata": {},
   "outputs": [],
   "source": [
    "X_train,X_test,y_train,y_test=train_test_split(X,y,test_size=0.25)"
   ]
  },
  {
   "cell_type": "code",
   "execution_count": 405,
   "id": "45b3f3ed",
   "metadata": {},
   "outputs": [],
   "source": [
    "# Standardizing of features 'Bonitaet', 'Alter', 'Konto' & 'Gesch_Einkommen'\n",
    "columns=['Bonitaet', 'Alter', 'Konto', 'Gesch_Einkommen']\n",
    "scaler=StandardScaler()\n",
    "scaler.fit(X_train[columns])\n",
    "X_train[columns]=scaler.transform(X_train[columns])\n",
    "X_test[columns]=scaler.transform(X_test[columns])"
   ]
  },
  {
   "cell_type": "code",
   "execution_count": 406,
   "id": "aa40f96c",
   "metadata": {},
   "outputs": [
    {
     "data": {
      "text/plain": [
       "0.896"
      ]
     },
     "execution_count": 406,
     "metadata": {},
     "output_type": "execute_result"
    }
   ],
   "source": [
    "clf=SVC()\n",
    "clf.fit(X_train,y_train)\n",
    "clf.score(X_test,y_test)"
   ]
  },
  {
   "cell_type": "code",
   "execution_count": 407,
   "id": "116b7861",
   "metadata": {},
   "outputs": [
    {
     "name": "stdout",
     "output_type": "stream",
     "text": [
      "Predicted Values     0   1\n",
      "Real Values               \n",
      "0                 1756  10\n",
      "1                  198  36\n"
     ]
    }
   ],
   "source": [
    "y_pred=clf.predict(X_test)\n",
    "print(pd.crosstab(y_test, y_pred, rownames=['Real Values'], colnames=['Predicted Values']))"
   ]
  },
  {
   "cell_type": "code",
   "execution_count": 408,
   "id": "ff9c95eb",
   "metadata": {
    "scrolled": true
   },
   "outputs": [
    {
     "name": "stdout",
     "output_type": "stream",
     "text": [
      "              precision    recall  f1-score   support\n",
      "\n",
      "           0       0.90      0.99      0.94      1766\n",
      "           1       0.78      0.15      0.26       234\n",
      "\n",
      "    accuracy                           0.90      2000\n",
      "   macro avg       0.84      0.57      0.60      2000\n",
      "weighted avg       0.89      0.90      0.86      2000\n",
      "\n"
     ]
    }
   ],
   "source": [
    "print(classification_report(y_test,y_pred))"
   ]
  },
  {
   "cell_type": "markdown",
   "id": "fd7847a4",
   "metadata": {},
   "source": [
    "The mode 'Exited = 1' is not well detected by the algorithm due to under-representation in the dataset  \n",
    "Therefore oversampling is conducted"
   ]
  },
  {
   "cell_type": "code",
   "execution_count": 409,
   "id": "77282052",
   "metadata": {},
   "outputs": [],
   "source": [
    "smote=SMOTE()\n",
    "X_os,y_os=smote.fit_resample(X_train,y_train)"
   ]
  },
  {
   "cell_type": "code",
   "execution_count": 410,
   "id": "2f37063f",
   "metadata": {},
   "outputs": [
    {
     "data": {
      "text/plain": [
       "0    5300\n",
       "1    5300\n",
       "Name: Austritt, dtype: int64"
      ]
     },
     "execution_count": 410,
     "metadata": {},
     "output_type": "execute_result"
    }
   ],
   "source": [
    "y_os.value_counts()"
   ]
  },
  {
   "cell_type": "code",
   "execution_count": 411,
   "id": "561e3d7c",
   "metadata": {},
   "outputs": [
    {
     "name": "stdout",
     "output_type": "stream",
     "text": [
      "Predicted Values     0    1\n",
      "Real Values                \n",
      "0                 1429  337\n",
      "1                   76  158\n",
      "              precision    recall  f1-score   support\n",
      "\n",
      "           0       0.95      0.81      0.87      1766\n",
      "           1       0.32      0.68      0.43       234\n",
      "\n",
      "    accuracy                           0.79      2000\n",
      "   macro avg       0.63      0.74      0.65      2000\n",
      "weighted avg       0.88      0.79      0.82      2000\n",
      "\n"
     ]
    }
   ],
   "source": [
    "clf=SVC()\n",
    "clf.fit(X_os,y_os)\n",
    "\n",
    "y_pred=clf.predict(X_test)\n",
    "\n",
    "print(pd.crosstab(y_test, y_pred, rownames=['Real Values'], colnames=['Predicted Values']))\n",
    "\n",
    "print(classification_report(y_test,y_pred))"
   ]
  },
  {
   "cell_type": "markdown",
   "id": "f7beaa86",
   "metadata": {},
   "source": [
    "Trying to further boost the result by defining class weights"
   ]
  },
  {
   "cell_type": "code",
   "execution_count": 414,
   "id": "791cc2a7",
   "metadata": {},
   "outputs": [
    {
     "name": "stdout",
     "output_type": "stream",
     "text": [
      "Predicted Values     0    1\n",
      "Real Values                \n",
      "0                 1204  562\n",
      "1                   47  187\n",
      "              precision    recall  f1-score   support\n",
      "\n",
      "           0       0.96      0.68      0.80      1766\n",
      "           1       0.25      0.80      0.38       234\n",
      "\n",
      "    accuracy                           0.70      2000\n",
      "   macro avg       0.61      0.74      0.59      2000\n",
      "weighted avg       0.88      0.70      0.75      2000\n",
      "\n"
     ]
    }
   ],
   "source": [
    "weights={0:1,1:2}\n",
    "clf=SVC(class_weight=weights)\n",
    "clf.fit(X_os,y_os)\n",
    "\n",
    "y_pred=clf.predict(X_test)\n",
    "\n",
    "print(pd.crosstab(y_test, y_pred, rownames=['Real Values'], colnames=['Predicted Values']))\n",
    "\n",
    "print(classification_report(y_test,y_pred))"
   ]
  },
  {
   "cell_type": "markdown",
   "id": "69934368",
   "metadata": {},
   "source": [
    "# Step 4\n",
    "Results and Conclusion"
   ]
  },
  {
   "cell_type": "markdown",
   "id": "ad278941",
   "metadata": {},
   "source": [
    "Class 1 (Exited) could be well detected with a recall of 0.80  \n",
    "Trade-off: The precision if quite low"
   ]
  },
  {
   "cell_type": "markdown",
   "id": "85db279c",
   "metadata": {},
   "source": [
    "The means 752 customers would need to be contacted preemptively but that would include 79% of customers that were thinking about switching to another ensurance.  \n",
    "By adjusting the weights the recall can be raised, with the tradeoff of a lower precision"
   ]
  }
 ],
 "metadata": {
  "kernelspec": {
   "display_name": "Python 3 (ipykernel)",
   "language": "python",
   "name": "python3"
  },
  "language_info": {
   "codemirror_mode": {
    "name": "ipython",
    "version": 3
   },
   "file_extension": ".py",
   "mimetype": "text/x-python",
   "name": "python",
   "nbconvert_exporter": "python",
   "pygments_lexer": "ipython3",
   "version": "3.9.12"
  }
 },
 "nbformat": 4,
 "nbformat_minor": 5
}
